{
 "cells": [
  {
   "cell_type": "markdown",
   "id": "a5c715e3",
   "metadata": {
    "slideshow": {
     "slide_type": "slide"
    }
   },
   "source": [
    "Handout: Explaining Clusters - example\n",
    "    <ol>\n",
    "    <li>Goal</li>\n",
    "    You clustered your dataset (e.g. patient samples). Now: which features define each cluster?\n",
    "    <li>Workflow</li>\n",
    "        <ol>\n",
    "        <li>Summarize features by cluster</li>\n",
    "            <ul>\n",
    "                <li>Continuous: mean, std, median.</li>\n",
    "            </ul>\n",
    "            <ul>\n",
    "                <li>Binary: counts, proportions.</li>\n",
    "            </ul>\n",
    "        <li>Test differences</li>\n",
    "            <ul>\n",
    "                <li>Continuous → ANOVA/Kruskal-Wallis + Cohen’s d effect size.</li>\n",
    "            </ul>\n",
    "            <ul>\n",
    "                <li>Binary → Chi-square/Fisher + difference in proportions.</li>\n",
    "            </ul>\n",
    "            <ul>\n",
    "                <li>Adjust p-values (Benjamini–Hochberg).</li>\n",
    "            </ul>\n",
    "        <li>Multivariate check</li>\n",
    "            <ul>\n",
    "                <li>Train a Random Forest (or logistic regression) to predict cluster labels.</li>\n",
    "            </ul>\n",
    "            <ul>\n",
    "                <li>Look at feature importance (permutation / SHAP).</li>\n",
    "            </ul>\n",
    "        <li>Interpret clusters</li>\n",
    "            <ul>\n",
    "                <li>Combine univariate + multivariate evidence.</li>\n",
    "            </ul>\n",
    "            <ul>\n",
    "                <li>Example: Cluster 2 = high BMI, high diabetes prevalence, older patients.</li>\n",
    "            </ul>\n",
    "        <li>Visualize</li>\n",
    "            <ul>\n",
    "                <li>Heatmap of feature means per cluster (or Heatmap of sample features, after reordering samples\n",
    "            by cluster).</li>\n",
    "            </ul>\n",
    "            <ul>\n",
    "                <li>Boxplots for key continuous vars</li>\n",
    "            </ul>\n",
    "            <ul>\n",
    "                <li>Bar plots for binary vars.</li>\n",
    "            </ul>\n",
    "            <ul>\n",
    "                <li>UMAP/t-SNE scatter colored by features.</li>\n",
    "            </ul>\n",
    "        </ol>\n",
    "    </ol>"
   ]
  },
  {
   "cell_type": "code",
   "execution_count": null,
   "id": "b8502f4a",
   "metadata": {},
   "outputs": [],
   "source": [
    "# Manipolations data\n",
    "import pandas as pd\n",
    "import numpy as np\n",
    "\n",
    "# Clustering e ML\n",
    "\n",
    "#from sklearn.preprocessing import StandardScaler\n",
    "from sklearn.preprocessing import MinMaxScaler\n",
    "from sklearn.cluster import KMeans\n",
    "from sklearn.ensemble import RandomForestClassifier\n",
    "from sklearn.model_selection import train_test_split\n",
    "from sklearn.metrics import classification_report\n",
    "from sklearn.inspection import permutation_importance\n",
    "\n",
    "# Statistics\n",
    "from scipy.stats import f_oneway, kruskal, chi2_contingency\n",
    "from statsmodels.stats.multitest import multipletests\n",
    "\n",
    "# Visualize\n",
    "import matplotlib.pyplot as plt\n",
    "import seaborn as sns\n",
    "import shap\n"
   ]
  },
  {
   "cell_type": "code",
   "execution_count": 150,
   "id": "c269ea30",
   "metadata": {},
   "outputs": [
    {
     "data": {
      "application/vnd.microsoft.datawrangler.viewer.v0+json": {
       "columns": [
        {
         "name": "index",
         "rawType": "int64",
         "type": "integer"
        },
        {
         "name": "age",
         "rawType": "float64",
         "type": "float"
        },
        {
         "name": "anaemia",
         "rawType": "int64",
         "type": "integer"
        },
        {
         "name": "creatinine_phosphokinase",
         "rawType": "int64",
         "type": "integer"
        },
        {
         "name": "diabetes",
         "rawType": "int64",
         "type": "integer"
        },
        {
         "name": "ejection_fraction",
         "rawType": "int64",
         "type": "integer"
        },
        {
         "name": "high_blood_pressure",
         "rawType": "int64",
         "type": "integer"
        },
        {
         "name": "platelets",
         "rawType": "float64",
         "type": "float"
        },
        {
         "name": "serum_creatinine",
         "rawType": "float64",
         "type": "float"
        },
        {
         "name": "serum_sodium",
         "rawType": "int64",
         "type": "integer"
        },
        {
         "name": "sex",
         "rawType": "int64",
         "type": "integer"
        },
        {
         "name": "smoking",
         "rawType": "int64",
         "type": "integer"
        },
        {
         "name": "time",
         "rawType": "int64",
         "type": "integer"
        },
        {
         "name": "DEATH_EVENT",
         "rawType": "int64",
         "type": "integer"
        }
       ],
       "ref": "2fe30a3a-b193-4f39-8013-2b64b8d2bbe7",
       "rows": [
        [
         "0",
         "75.0",
         "0",
         "582",
         "0",
         "20",
         "1",
         "265000.0",
         "1.9",
         "130",
         "1",
         "0",
         "4",
         "1"
        ],
        [
         "1",
         "55.0",
         "0",
         "7861",
         "0",
         "38",
         "0",
         "263358.03",
         "1.1",
         "136",
         "1",
         "0",
         "6",
         "1"
        ],
        [
         "2",
         "65.0",
         "0",
         "146",
         "0",
         "20",
         "0",
         "162000.0",
         "1.3",
         "129",
         "1",
         "1",
         "7",
         "1"
        ],
        [
         "3",
         "50.0",
         "1",
         "111",
         "0",
         "20",
         "0",
         "210000.0",
         "1.9",
         "137",
         "1",
         "0",
         "7",
         "1"
        ],
        [
         "4",
         "65.0",
         "1",
         "160",
         "1",
         "20",
         "0",
         "327000.0",
         "2.7",
         "116",
         "0",
         "0",
         "8",
         "1"
        ]
       ],
       "shape": {
        "columns": 13,
        "rows": 5
       }
      },
      "text/html": [
       "<div>\n",
       "<style scoped>\n",
       "    .dataframe tbody tr th:only-of-type {\n",
       "        vertical-align: middle;\n",
       "    }\n",
       "\n",
       "    .dataframe tbody tr th {\n",
       "        vertical-align: top;\n",
       "    }\n",
       "\n",
       "    .dataframe thead th {\n",
       "        text-align: right;\n",
       "    }\n",
       "</style>\n",
       "<table border=\"1\" class=\"dataframe\">\n",
       "  <thead>\n",
       "    <tr style=\"text-align: right;\">\n",
       "      <th></th>\n",
       "      <th>age</th>\n",
       "      <th>anaemia</th>\n",
       "      <th>creatinine_phosphokinase</th>\n",
       "      <th>diabetes</th>\n",
       "      <th>ejection_fraction</th>\n",
       "      <th>high_blood_pressure</th>\n",
       "      <th>platelets</th>\n",
       "      <th>serum_creatinine</th>\n",
       "      <th>serum_sodium</th>\n",
       "      <th>sex</th>\n",
       "      <th>smoking</th>\n",
       "      <th>time</th>\n",
       "      <th>DEATH_EVENT</th>\n",
       "    </tr>\n",
       "  </thead>\n",
       "  <tbody>\n",
       "    <tr>\n",
       "      <th>0</th>\n",
       "      <td>75.0</td>\n",
       "      <td>0</td>\n",
       "      <td>582</td>\n",
       "      <td>0</td>\n",
       "      <td>20</td>\n",
       "      <td>1</td>\n",
       "      <td>265000.00</td>\n",
       "      <td>1.9</td>\n",
       "      <td>130</td>\n",
       "      <td>1</td>\n",
       "      <td>0</td>\n",
       "      <td>4</td>\n",
       "      <td>1</td>\n",
       "    </tr>\n",
       "    <tr>\n",
       "      <th>1</th>\n",
       "      <td>55.0</td>\n",
       "      <td>0</td>\n",
       "      <td>7861</td>\n",
       "      <td>0</td>\n",
       "      <td>38</td>\n",
       "      <td>0</td>\n",
       "      <td>263358.03</td>\n",
       "      <td>1.1</td>\n",
       "      <td>136</td>\n",
       "      <td>1</td>\n",
       "      <td>0</td>\n",
       "      <td>6</td>\n",
       "      <td>1</td>\n",
       "    </tr>\n",
       "    <tr>\n",
       "      <th>2</th>\n",
       "      <td>65.0</td>\n",
       "      <td>0</td>\n",
       "      <td>146</td>\n",
       "      <td>0</td>\n",
       "      <td>20</td>\n",
       "      <td>0</td>\n",
       "      <td>162000.00</td>\n",
       "      <td>1.3</td>\n",
       "      <td>129</td>\n",
       "      <td>1</td>\n",
       "      <td>1</td>\n",
       "      <td>7</td>\n",
       "      <td>1</td>\n",
       "    </tr>\n",
       "    <tr>\n",
       "      <th>3</th>\n",
       "      <td>50.0</td>\n",
       "      <td>1</td>\n",
       "      <td>111</td>\n",
       "      <td>0</td>\n",
       "      <td>20</td>\n",
       "      <td>0</td>\n",
       "      <td>210000.00</td>\n",
       "      <td>1.9</td>\n",
       "      <td>137</td>\n",
       "      <td>1</td>\n",
       "      <td>0</td>\n",
       "      <td>7</td>\n",
       "      <td>1</td>\n",
       "    </tr>\n",
       "    <tr>\n",
       "      <th>4</th>\n",
       "      <td>65.0</td>\n",
       "      <td>1</td>\n",
       "      <td>160</td>\n",
       "      <td>1</td>\n",
       "      <td>20</td>\n",
       "      <td>0</td>\n",
       "      <td>327000.00</td>\n",
       "      <td>2.7</td>\n",
       "      <td>116</td>\n",
       "      <td>0</td>\n",
       "      <td>0</td>\n",
       "      <td>8</td>\n",
       "      <td>1</td>\n",
       "    </tr>\n",
       "  </tbody>\n",
       "</table>\n",
       "</div>"
      ],
      "text/plain": [
       "    age  anaemia  creatinine_phosphokinase  diabetes  ejection_fraction  \\\n",
       "0  75.0        0                       582         0                 20   \n",
       "1  55.0        0                      7861         0                 38   \n",
       "2  65.0        0                       146         0                 20   \n",
       "3  50.0        1                       111         0                 20   \n",
       "4  65.0        1                       160         1                 20   \n",
       "\n",
       "   high_blood_pressure  platelets  serum_creatinine  serum_sodium  sex  \\\n",
       "0                    1  265000.00               1.9           130    1   \n",
       "1                    0  263358.03               1.1           136    1   \n",
       "2                    0  162000.00               1.3           129    1   \n",
       "3                    0  210000.00               1.9           137    1   \n",
       "4                    0  327000.00               2.7           116    0   \n",
       "\n",
       "   smoking  time  DEATH_EVENT  \n",
       "0        0     4            1  \n",
       "1        0     6            1  \n",
       "2        1     7            1  \n",
       "3        0     7            1  \n",
       "4        0     8            1  "
      ]
     },
     "execution_count": 150,
     "metadata": {},
     "output_type": "execute_result"
    }
   ],
   "source": [
    "df = pd.read_csv('data/heart_failure_clinical_records_dataset.csv')\n",
    "df.head()"
   ]
  },
  {
   "cell_type": "markdown",
   "id": "43bf63ca",
   "metadata": {},
   "source": [
    "Normalization and clustering"
   ]
  },
  {
   "cell_type": "code",
   "execution_count": null,
   "id": "db8f09cb",
   "metadata": {},
   "outputs": [
    {
     "data": {
      "application/vnd.microsoft.datawrangler.viewer.v0+json": {
       "columns": [
        {
         "name": "index",
         "rawType": "int64",
         "type": "integer"
        },
        {
         "name": "age",
         "rawType": "float64",
         "type": "float"
        },
        {
         "name": "anaemia",
         "rawType": "float64",
         "type": "float"
        },
        {
         "name": "creatinine_phosphokinase",
         "rawType": "float64",
         "type": "float"
        },
        {
         "name": "diabetes",
         "rawType": "float64",
         "type": "float"
        },
        {
         "name": "ejection_fraction",
         "rawType": "float64",
         "type": "float"
        },
        {
         "name": "high_blood_pressure",
         "rawType": "float64",
         "type": "float"
        },
        {
         "name": "platelets",
         "rawType": "float64",
         "type": "float"
        },
        {
         "name": "serum_creatinine",
         "rawType": "float64",
         "type": "float"
        },
        {
         "name": "serum_sodium",
         "rawType": "float64",
         "type": "float"
        },
        {
         "name": "sex",
         "rawType": "float64",
         "type": "float"
        },
        {
         "name": "smoking",
         "rawType": "float64",
         "type": "float"
        },
        {
         "name": "time",
         "rawType": "float64",
         "type": "float"
        },
        {
         "name": "DEATH_EVENT",
         "rawType": "float64",
         "type": "float"
        }
       ],
       "ref": "c12b8677-92af-4823-ab9c-3837271ff141",
       "rows": [
        [
         "0",
         "0.6363636363636362",
         "0.0",
         "0.07131921408522582",
         "0.0",
         "0.09090909090909091",
         "1.0",
         "0.2908231300763729",
         "0.15730337078651685",
         "0.4857142857142853",
         "1.0",
         "0.0",
         "0.0",
         "1.0"
        ],
        [
         "1",
         "0.2727272727272727",
         "0.0",
         "1.0",
         "0.0",
         "0.36363636363636365",
         "0.0",
         "0.2888326221360165",
         "0.06741573033707866",
         "0.657142857142857",
         "1.0",
         "0.0",
         "0.00711743772241993",
         "1.0"
        ],
        [
         "2",
         "0.45454545454545436",
         "0.0",
         "0.01569277877009441",
         "0.0",
         "0.09090909090909091",
         "0.0",
         "0.1659595102436659",
         "0.0898876404494382",
         "0.45714285714285685",
         "1.0",
         "1.0",
         "0.010676156583629894",
         "1.0"
        ],
        [
         "3",
         "0.18181818181818177",
         "1.0",
         "0.011227353916815513",
         "0.0",
         "0.09090909090909091",
         "0.0",
         "0.22414838162201478",
         "0.15730337078651685",
         "0.6857142857142855",
         "1.0",
         "0.0",
         "0.010676156583629894",
         "1.0"
        ],
        [
         "4",
         "0.45454545454545436",
         "1.0",
         "0.01747894871140597",
         "1.0",
         "0.09090909090909091",
         "0.0",
         "0.3659837556067402",
         "0.24719101123595508",
         "0.08571428571428541",
         "0.0",
         "0.0",
         "0.014234875444839857",
         "1.0"
        ]
       ],
       "shape": {
        "columns": 13,
        "rows": 5
       }
      },
      "text/html": [
       "<div>\n",
       "<style scoped>\n",
       "    .dataframe tbody tr th:only-of-type {\n",
       "        vertical-align: middle;\n",
       "    }\n",
       "\n",
       "    .dataframe tbody tr th {\n",
       "        vertical-align: top;\n",
       "    }\n",
       "\n",
       "    .dataframe thead th {\n",
       "        text-align: right;\n",
       "    }\n",
       "</style>\n",
       "<table border=\"1\" class=\"dataframe\">\n",
       "  <thead>\n",
       "    <tr style=\"text-align: right;\">\n",
       "      <th></th>\n",
       "      <th>age</th>\n",
       "      <th>anaemia</th>\n",
       "      <th>creatinine_phosphokinase</th>\n",
       "      <th>diabetes</th>\n",
       "      <th>ejection_fraction</th>\n",
       "      <th>high_blood_pressure</th>\n",
       "      <th>platelets</th>\n",
       "      <th>serum_creatinine</th>\n",
       "      <th>serum_sodium</th>\n",
       "      <th>sex</th>\n",
       "      <th>smoking</th>\n",
       "      <th>time</th>\n",
       "      <th>DEATH_EVENT</th>\n",
       "    </tr>\n",
       "  </thead>\n",
       "  <tbody>\n",
       "    <tr>\n",
       "      <th>0</th>\n",
       "      <td>0.636364</td>\n",
       "      <td>0.0</td>\n",
       "      <td>0.071319</td>\n",
       "      <td>0.0</td>\n",
       "      <td>0.090909</td>\n",
       "      <td>1.0</td>\n",
       "      <td>0.290823</td>\n",
       "      <td>0.157303</td>\n",
       "      <td>0.485714</td>\n",
       "      <td>1.0</td>\n",
       "      <td>0.0</td>\n",
       "      <td>0.000000</td>\n",
       "      <td>1.0</td>\n",
       "    </tr>\n",
       "    <tr>\n",
       "      <th>1</th>\n",
       "      <td>0.272727</td>\n",
       "      <td>0.0</td>\n",
       "      <td>1.000000</td>\n",
       "      <td>0.0</td>\n",
       "      <td>0.363636</td>\n",
       "      <td>0.0</td>\n",
       "      <td>0.288833</td>\n",
       "      <td>0.067416</td>\n",
       "      <td>0.657143</td>\n",
       "      <td>1.0</td>\n",
       "      <td>0.0</td>\n",
       "      <td>0.007117</td>\n",
       "      <td>1.0</td>\n",
       "    </tr>\n",
       "    <tr>\n",
       "      <th>2</th>\n",
       "      <td>0.454545</td>\n",
       "      <td>0.0</td>\n",
       "      <td>0.015693</td>\n",
       "      <td>0.0</td>\n",
       "      <td>0.090909</td>\n",
       "      <td>0.0</td>\n",
       "      <td>0.165960</td>\n",
       "      <td>0.089888</td>\n",
       "      <td>0.457143</td>\n",
       "      <td>1.0</td>\n",
       "      <td>1.0</td>\n",
       "      <td>0.010676</td>\n",
       "      <td>1.0</td>\n",
       "    </tr>\n",
       "    <tr>\n",
       "      <th>3</th>\n",
       "      <td>0.181818</td>\n",
       "      <td>1.0</td>\n",
       "      <td>0.011227</td>\n",
       "      <td>0.0</td>\n",
       "      <td>0.090909</td>\n",
       "      <td>0.0</td>\n",
       "      <td>0.224148</td>\n",
       "      <td>0.157303</td>\n",
       "      <td>0.685714</td>\n",
       "      <td>1.0</td>\n",
       "      <td>0.0</td>\n",
       "      <td>0.010676</td>\n",
       "      <td>1.0</td>\n",
       "    </tr>\n",
       "    <tr>\n",
       "      <th>4</th>\n",
       "      <td>0.454545</td>\n",
       "      <td>1.0</td>\n",
       "      <td>0.017479</td>\n",
       "      <td>1.0</td>\n",
       "      <td>0.090909</td>\n",
       "      <td>0.0</td>\n",
       "      <td>0.365984</td>\n",
       "      <td>0.247191</td>\n",
       "      <td>0.085714</td>\n",
       "      <td>0.0</td>\n",
       "      <td>0.0</td>\n",
       "      <td>0.014235</td>\n",
       "      <td>1.0</td>\n",
       "    </tr>\n",
       "  </tbody>\n",
       "</table>\n",
       "</div>"
      ],
      "text/plain": [
       "        age  anaemia  creatinine_phosphokinase  diabetes  ejection_fraction  \\\n",
       "0  0.636364      0.0                  0.071319       0.0           0.090909   \n",
       "1  0.272727      0.0                  1.000000       0.0           0.363636   \n",
       "2  0.454545      0.0                  0.015693       0.0           0.090909   \n",
       "3  0.181818      1.0                  0.011227       0.0           0.090909   \n",
       "4  0.454545      1.0                  0.017479       1.0           0.090909   \n",
       "\n",
       "   high_blood_pressure  platelets  serum_creatinine  serum_sodium  sex  \\\n",
       "0                  1.0   0.290823          0.157303      0.485714  1.0   \n",
       "1                  0.0   0.288833          0.067416      0.657143  1.0   \n",
       "2                  0.0   0.165960          0.089888      0.457143  1.0   \n",
       "3                  0.0   0.224148          0.157303      0.685714  1.0   \n",
       "4                  0.0   0.365984          0.247191      0.085714  0.0   \n",
       "\n",
       "   smoking      time  DEATH_EVENT  \n",
       "0      0.0  0.000000          1.0  \n",
       "1      0.0  0.007117          1.0  \n",
       "2      1.0  0.010676          1.0  \n",
       "3      0.0  0.010676          1.0  \n",
       "4      0.0  0.014235          1.0  "
      ]
     },
     "execution_count": 151,
     "metadata": {},
     "output_type": "execute_result"
    }
   ],
   "source": [
    "# Let's separate the features\n",
    "X = df.copy()\n",
    "\n",
    "continuous_vars = ['age', 'creatinine_phosphokinase', 'ejection_fraction', 'platelets', 'serum_creatinine', 'serum_sodium', 'time']\n",
    "binary_vars = ['anaemia', 'diabetes', 'high_blood_pressure', 'sex', 'smoking', 'DEATH_EVENT']\n",
    "\n",
    "# Standardization\n",
    "scaler = MinMaxScaler()\n",
    "X_scaled = pd.DataFrame(scaler.fit_transform(X), columns=X.columns)\n",
    "\n",
    "# Clustering (esempio con K-Means)\n",
    "kmeans = KMeans(n_clusters=3, random_state=42)\n",
    "clusters = kmeans.fit_predict(X_scaled)\n",
    "\n",
    "# Adding clusters to the dataframe\n",
    "df['cluster'] = clusters\n",
    "\n",
    "X_scaled.head()"
   ]
  },
  {
   "cell_type": "markdown",
   "id": "b579c68f",
   "metadata": {},
   "source": [
    "Univariate analysis: differences between clusters"
   ]
  },
  {
   "cell_type": "markdown",
   "id": "d4496640",
   "metadata": {},
   "source": [
    "Continuous variables → ANOVA / Kruskal"
   ]
  },
  {
   "cell_type": "code",
   "execution_count": null,
   "id": "86092af1",
   "metadata": {},
   "outputs": [
    {
     "data": {
      "application/vnd.microsoft.datawrangler.viewer.v0+json": {
       "columns": [
        {
         "name": "index",
         "rawType": "int64",
         "type": "integer"
        },
        {
         "name": "variable",
         "rawType": "object",
         "type": "string"
        },
        {
         "name": "p_value",
         "rawType": "float64",
         "type": "float"
        }
       ],
       "ref": "85a61ee2-9303-445c-a6a8-1c7d59c841ff",
       "rows": [
        [
         "6",
         "time",
         "8.171895393003636e-16"
        ],
        [
         "0",
         "age",
         "4.329118411485165e-06"
        ],
        [
         "2",
         "ejection_fraction",
         "3.953580491613671e-05"
        ],
        [
         "4",
         "serum_creatinine",
         "6.744796823425263e-05"
        ],
        [
         "5",
         "serum_sodium",
         "0.020037296444639204"
        ],
        [
         "3",
         "platelets",
         "0.12605285437778208"
        ],
        [
         "1",
         "creatinine_phosphokinase",
         "0.6938660788733687"
        ]
       ],
       "shape": {
        "columns": 2,
        "rows": 7
       }
      },
      "text/html": [
       "<div>\n",
       "<style scoped>\n",
       "    .dataframe tbody tr th:only-of-type {\n",
       "        vertical-align: middle;\n",
       "    }\n",
       "\n",
       "    .dataframe tbody tr th {\n",
       "        vertical-align: top;\n",
       "    }\n",
       "\n",
       "    .dataframe thead th {\n",
       "        text-align: right;\n",
       "    }\n",
       "</style>\n",
       "<table border=\"1\" class=\"dataframe\">\n",
       "  <thead>\n",
       "    <tr style=\"text-align: right;\">\n",
       "      <th></th>\n",
       "      <th>variable</th>\n",
       "      <th>p_value</th>\n",
       "    </tr>\n",
       "  </thead>\n",
       "  <tbody>\n",
       "    <tr>\n",
       "      <th>6</th>\n",
       "      <td>time</td>\n",
       "      <td>8.171895e-16</td>\n",
       "    </tr>\n",
       "    <tr>\n",
       "      <th>0</th>\n",
       "      <td>age</td>\n",
       "      <td>4.329118e-06</td>\n",
       "    </tr>\n",
       "    <tr>\n",
       "      <th>2</th>\n",
       "      <td>ejection_fraction</td>\n",
       "      <td>3.953580e-05</td>\n",
       "    </tr>\n",
       "    <tr>\n",
       "      <th>4</th>\n",
       "      <td>serum_creatinine</td>\n",
       "      <td>6.744797e-05</td>\n",
       "    </tr>\n",
       "    <tr>\n",
       "      <th>5</th>\n",
       "      <td>serum_sodium</td>\n",
       "      <td>2.003730e-02</td>\n",
       "    </tr>\n",
       "    <tr>\n",
       "      <th>3</th>\n",
       "      <td>platelets</td>\n",
       "      <td>1.260529e-01</td>\n",
       "    </tr>\n",
       "    <tr>\n",
       "      <th>1</th>\n",
       "      <td>creatinine_phosphokinase</td>\n",
       "      <td>6.938661e-01</td>\n",
       "    </tr>\n",
       "  </tbody>\n",
       "</table>\n",
       "</div>"
      ],
      "text/plain": [
       "                   variable       p_value\n",
       "6                      time  8.171895e-16\n",
       "0                       age  4.329118e-06\n",
       "2         ejection_fraction  3.953580e-05\n",
       "4          serum_creatinine  6.744797e-05\n",
       "5              serum_sodium  2.003730e-02\n",
       "3                 platelets  1.260529e-01\n",
       "1  creatinine_phosphokinase  6.938661e-01"
      ]
     },
     "execution_count": 152,
     "metadata": {},
     "output_type": "execute_result"
    }
   ],
   "source": [
    "#continuous_vars = ['age', 'creatinine_phosphokinase', 'ejection_fraction', 'platelets', 'serum_creatinine', 'serum_sodium', 'time']\n",
    "results = []\n",
    "\n",
    "for var in continuous_vars:\n",
    "    groups = [df[df['cluster'] == c][var] for c in df['cluster'].unique()]\n",
    "    stat, p = f_oneway(*groups)  # oppure kruskal(*groups)\n",
    "    results.append({'variable': var, 'p_value': p})\n",
    "\n",
    "# Correction p-value (Benjamini–Hochberg)\n",
    "res_df = pd.DataFrame(results)\n",
    "res_df.sort_values('p_value')"
   ]
  },
  {
   "cell_type": "markdown",
   "id": "76f5b3d5",
   "metadata": {},
   "source": [
    "Binary variables → Chi-square"
   ]
  },
  {
   "cell_type": "code",
   "execution_count": 153,
   "id": "ecf94603",
   "metadata": {},
   "outputs": [
    {
     "data": {
      "application/vnd.microsoft.datawrangler.viewer.v0+json": {
       "columns": [
        {
         "name": "index",
         "rawType": "int64",
         "type": "integer"
        },
        {
         "name": "variable",
         "rawType": "object",
         "type": "string"
        },
        {
         "name": "p_value",
         "rawType": "float64",
         "type": "float"
        }
       ],
       "ref": "3edfd35c-8cbb-436d-8fe1-84335ff536c8",
       "rows": [
        [
         "5",
         "DEATH_EVENT",
         "2.0617417594465242e-50"
        ],
        [
         "3",
         "sex",
         "3.1733567588803426e-30"
        ],
        [
         "4",
         "smoking",
         "1.7664976116082082e-24"
        ],
        [
         "1",
         "diabetes",
         "3.1747913315654915e-16"
        ],
        [
         "0",
         "anaemia",
         "0.21558113365751347"
        ],
        [
         "2",
         "high_blood_pressure",
         "0.6273103732339389"
        ]
       ],
       "shape": {
        "columns": 2,
        "rows": 6
       }
      },
      "text/html": [
       "<div>\n",
       "<style scoped>\n",
       "    .dataframe tbody tr th:only-of-type {\n",
       "        vertical-align: middle;\n",
       "    }\n",
       "\n",
       "    .dataframe tbody tr th {\n",
       "        vertical-align: top;\n",
       "    }\n",
       "\n",
       "    .dataframe thead th {\n",
       "        text-align: right;\n",
       "    }\n",
       "</style>\n",
       "<table border=\"1\" class=\"dataframe\">\n",
       "  <thead>\n",
       "    <tr style=\"text-align: right;\">\n",
       "      <th></th>\n",
       "      <th>variable</th>\n",
       "      <th>p_value</th>\n",
       "    </tr>\n",
       "  </thead>\n",
       "  <tbody>\n",
       "    <tr>\n",
       "      <th>5</th>\n",
       "      <td>DEATH_EVENT</td>\n",
       "      <td>2.061742e-50</td>\n",
       "    </tr>\n",
       "    <tr>\n",
       "      <th>3</th>\n",
       "      <td>sex</td>\n",
       "      <td>3.173357e-30</td>\n",
       "    </tr>\n",
       "    <tr>\n",
       "      <th>4</th>\n",
       "      <td>smoking</td>\n",
       "      <td>1.766498e-24</td>\n",
       "    </tr>\n",
       "    <tr>\n",
       "      <th>1</th>\n",
       "      <td>diabetes</td>\n",
       "      <td>3.174791e-16</td>\n",
       "    </tr>\n",
       "    <tr>\n",
       "      <th>0</th>\n",
       "      <td>anaemia</td>\n",
       "      <td>2.155811e-01</td>\n",
       "    </tr>\n",
       "    <tr>\n",
       "      <th>2</th>\n",
       "      <td>high_blood_pressure</td>\n",
       "      <td>6.273104e-01</td>\n",
       "    </tr>\n",
       "  </tbody>\n",
       "</table>\n",
       "</div>"
      ],
      "text/plain": [
       "              variable       p_value\n",
       "5          DEATH_EVENT  2.061742e-50\n",
       "3                  sex  3.173357e-30\n",
       "4              smoking  1.766498e-24\n",
       "1             diabetes  3.174791e-16\n",
       "0              anaemia  2.155811e-01\n",
       "2  high_blood_pressure  6.273104e-01"
      ]
     },
     "execution_count": 153,
     "metadata": {},
     "output_type": "execute_result"
    }
   ],
   "source": [
    "#binary_vars = ['anaemia', 'diabetes', 'high_blood_pressure', 'sex', 'smoking', 'DEATH_EVENT']\n",
    "\n",
    "chi_results = []\n",
    "for var in binary_vars:\n",
    "    contingency = pd.crosstab(df[var], df['cluster'])\n",
    "    chi2, p, _, _ = chi2_contingency(contingency)\n",
    "    chi_results.append({'variable': var, 'p_value': p})\n",
    "\n",
    "chi_df = pd.DataFrame(chi_results)\n",
    "chi_df.sort_values('p_value')\n"
   ]
  },
  {
   "cell_type": "markdown",
   "id": "a362a75a",
   "metadata": {},
   "source": [
    "Multivariate analysis (Random Forest to understand feature importance)"
   ]
  },
  {
   "cell_type": "code",
   "execution_count": null,
   "id": "2b4cc98f",
   "metadata": {},
   "outputs": [
    {
     "name": "stdout",
     "output_type": "stream",
     "text": [
      "              precision    recall  f1-score   support\n",
      "\n",
      "           0       1.00      0.96      0.98        26\n",
      "           1       0.91      0.94      0.93        34\n",
      "           2       0.93      0.93      0.93        30\n",
      "\n",
      "    accuracy                           0.94        90\n",
      "   macro avg       0.95      0.95      0.95        90\n",
      "weighted avg       0.95      0.94      0.94        90\n",
      "\n"
     ]
    },
    {
     "data": {
      "application/vnd.microsoft.datawrangler.viewer.v0+json": {
       "columns": [
        {
         "name": "index",
         "rawType": "int64",
         "type": "integer"
        },
        {
         "name": "feature",
         "rawType": "object",
         "type": "string"
        },
        {
         "name": "importance",
         "rawType": "float64",
         "type": "float"
        }
       ],
       "ref": "11401281-a3ba-4c62-8c30-d73255b36429",
       "rows": [
        [
         "12",
         "DEATH_EVENT",
         "0.3788888888888889"
        ],
        [
         "9",
         "sex",
         "0.1844444444444444"
        ],
        [
         "3",
         "diabetes",
         "0.1244444444444444"
        ],
        [
         "10",
         "smoking",
         "0.09111111111111109"
        ],
        [
         "1",
         "anaemia",
         "0.0"
        ]
       ],
       "shape": {
        "columns": 2,
        "rows": 5
       }
      },
      "text/html": [
       "<div>\n",
       "<style scoped>\n",
       "    .dataframe tbody tr th:only-of-type {\n",
       "        vertical-align: middle;\n",
       "    }\n",
       "\n",
       "    .dataframe tbody tr th {\n",
       "        vertical-align: top;\n",
       "    }\n",
       "\n",
       "    .dataframe thead th {\n",
       "        text-align: right;\n",
       "    }\n",
       "</style>\n",
       "<table border=\"1\" class=\"dataframe\">\n",
       "  <thead>\n",
       "    <tr style=\"text-align: right;\">\n",
       "      <th></th>\n",
       "      <th>feature</th>\n",
       "      <th>importance</th>\n",
       "    </tr>\n",
       "  </thead>\n",
       "  <tbody>\n",
       "    <tr>\n",
       "      <th>12</th>\n",
       "      <td>DEATH_EVENT</td>\n",
       "      <td>0.378889</td>\n",
       "    </tr>\n",
       "    <tr>\n",
       "      <th>9</th>\n",
       "      <td>sex</td>\n",
       "      <td>0.184444</td>\n",
       "    </tr>\n",
       "    <tr>\n",
       "      <th>3</th>\n",
       "      <td>diabetes</td>\n",
       "      <td>0.124444</td>\n",
       "    </tr>\n",
       "    <tr>\n",
       "      <th>10</th>\n",
       "      <td>smoking</td>\n",
       "      <td>0.091111</td>\n",
       "    </tr>\n",
       "    <tr>\n",
       "      <th>1</th>\n",
       "      <td>anaemia</td>\n",
       "      <td>0.000000</td>\n",
       "    </tr>\n",
       "  </tbody>\n",
       "</table>\n",
       "</div>"
      ],
      "text/plain": [
       "        feature  importance\n",
       "12  DEATH_EVENT    0.378889\n",
       "9           sex    0.184444\n",
       "3      diabetes    0.124444\n",
       "10      smoking    0.091111\n",
       "1       anaemia    0.000000"
      ]
     },
     "execution_count": 154,
     "metadata": {},
     "output_type": "execute_result"
    }
   ],
   "source": [
    "X_train, X_test, y_train, y_test = train_test_split(X_scaled, clusters, test_size=0.3, random_state=42)\n",
    "\n",
    "rf = RandomForestClassifier(random_state=42)\n",
    "rf.fit(X_train, y_train)\n",
    "\n",
    "print(classification_report(y_test, rf.predict(X_test)))\n",
    "\n",
    "# Importance con permutation importance\n",
    "perm = permutation_importance(rf, X_test, y_test, n_repeats=10, random_state=42)\n",
    "importance_df = pd.DataFrame({'feature': X.columns, 'importance': perm.importances_mean}).sort_values('importance', ascending=False)\n",
    "importance_df.head()"
   ]
  },
  {
   "cell_type": "markdown",
   "id": "80325e40",
   "metadata": {},
   "source": [
    "<b>Visualization</b>"
   ]
  },
  {
   "cell_type": "markdown",
   "id": "aef2612d",
   "metadata": {},
   "source": [
    "Heatmap of cluster averages"
   ]
  },
  {
   "cell_type": "code",
   "execution_count": 156,
   "id": "cff14f79",
   "metadata": {},
   "outputs": [
    {
     "data": {
      "image/png": "[encoded data removed]",
      "text/plain": [
       "<Figure size 1000x600 with 2 Axes>"
      ]
     },
     "metadata": {},
     "output_type": "display_data"
    }
   ],
   "source": [
    "# Standardize the feature values (z-scores)\n",
    "standardized_means = df.groupby('cluster').mean()\n",
    "standardized_means = (standardized_means - standardized_means.mean()) / standardized_means.std()\n",
    "\n",
    "# Plot the standardized heatmap\n",
    "plt.figure(figsize=(10,6))\n",
    "sns.heatmap(standardized_means, cmap='coolwarm', annot=True)\n",
    "plt.title(\"Standardized Feature Means per Cluster\")\n",
    "plt.show()"
   ]
  },
  {
   "cell_type": "markdown",
   "id": "6d3d9d5a",
   "metadata": {},
   "source": [
    "Boxplots with continuous variables"
   ]
  },
  {
   "cell_type": "code",
   "execution_count": 157,
   "id": "3adc3ef8",
   "metadata": {},
   "outputs": [
    {
     "data": {
      "image/png": "[encoded data removed]",
      "text/plain": [
       "<Figure size 640x480 with 1 Axes>"
      ]
     },
     "metadata": {},
     "output_type": "display_data"
    }
   ],
   "source": [
    "sns.boxplot(data=df, x='cluster', y='age')\n",
    "plt.title('Age distribution per cluster')\n",
    "plt.show()\n"
   ]
  },
  {
   "cell_type": "markdown",
   "id": "73234974",
   "metadata": {},
   "source": [
    "Barplot for binary variables"
   ]
  },
  {
   "cell_type": "code",
   "execution_count": 160,
   "id": "957a57b8",
   "metadata": {},
   "outputs": [
    {
     "data": {
      "image/png": "[encoded data removed]",
      "text/plain": [
       "<Figure size 640x480 with 1 Axes>"
      ]
     },
     "metadata": {},
     "output_type": "display_data"
    }
   ],
   "source": [
    "# Calculate the mean proportions of binary features by cluster\n",
    "binary_means = df.groupby('cluster')[binary_vars].mean().reset_index()\n",
    "\n",
    "# Melt the DataFrame to long format for seaborn compatibility\n",
    "binary_means_melted = binary_means.melt(id_vars='cluster', var_name='variable', value_name='value')\n",
    "\n",
    "# Plot the horizontal barplot\n",
    "sns.barplot(data=binary_means_melted, x='value', y='variable', hue='cluster', orient='h')\n",
    "plt.title('Proportion of Binary Features per Cluster (Horizontal)')\n",
    "plt.show()\n"
   ]
  },
  {
   "cell_type": "code",
   "execution_count": 161,
   "id": "a7e2a74a",
   "metadata": {},
   "outputs": [
    {
     "data": {
      "image/png": "[encoded data removed]",
      "text/plain": [
       "<Figure size 640x480 with 1 Axes>"
      ]
     },
     "metadata": {},
     "output_type": "display_data"
    }
   ],
   "source": [
    "# Calculate the mean proportions of binary features by cluster\n",
    "X_scaled['cluster'] = clusters\n",
    "continuous_means = X_scaled.groupby('cluster')[continuous_vars].mean().reset_index()\n",
    "\n",
    "# Melt the DataFrame to long format for seaborn compatibility\n",
    "continuous_means_melted = continuous_means.melt(id_vars='cluster', var_name='variable', value_name='value')\n",
    "\n",
    "# Plot the horizontal barplot\n",
    "sns.barplot(data=continuous_means_melted, x='value', y='variable', hue='cluster', orient='h')\n",
    "plt.title('Proportion of Continuous Features per Cluster (Horizontal)')\n",
    "plt.show()\n"
   ]
  }
 ],
 "metadata": {
  "kernelspec": {
   "display_name": "Python 3",
   "language": "python",
   "name": "python3"
  },
  "language_info": {
   "codemirror_mode": {
    "name": "ipython",
    "version": 3
   },
   "file_extension": ".py",
   "mimetype": "text/x-python",
   "name": "python",
   "nbconvert_exporter": "python",
   "pygments_lexer": "ipython3",
   "version": "3.12.6"
  }
 },
 "nbformat": 4,
 "nbformat_minor": 5
}
